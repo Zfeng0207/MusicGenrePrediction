{
 "cells": [
  {
   "cell_type": "markdown",
   "id": "a0089fa8",
   "metadata": {
    "id": "31d38e3a",
    "papermill": {
     "duration": 0.014834,
     "end_time": "2023-05-05T07:55:08.999779",
     "exception": false,
     "start_time": "2023-05-05T07:55:08.984945",
     "status": "completed"
    },
    "tags": []
   },
   "source": [
    "# Prediction of music genre\n"
   ]
  },
  {
   "cell_type": "code",
   "execution_count": 1,
   "id": "d8f0636c",
   "metadata": {},
   "outputs": [],
   "source": [
    "import matplotlib.pyplot as plt\n",
    "import pandas as pd\n",
    "import numpy as np\n",
    "import seaborn as sns"
   ]
  },
  {
   "cell_type": "code",
   "execution_count": 2,
   "id": "c17c5ee0",
   "metadata": {
    "execution": {
     "iopub.execute_input": "2023-05-05T07:55:10.488367Z",
     "iopub.status.busy": "2023-05-05T07:55:10.487795Z",
     "iopub.status.idle": "2023-05-05T07:55:10.939513Z",
     "shell.execute_reply": "2023-05-05T07:55:10.938341Z"
    },
    "id": "b233af2e",
    "outputId": "4af07c08-3cd7-40fb-8700-509e9c3d1652",
    "papermill": {
     "duration": 0.469284,
     "end_time": "2023-05-05T07:55:10.942424",
     "exception": false,
     "start_time": "2023-05-05T07:55:10.473140",
     "status": "completed"
    },
    "scrolled": true,
    "tags": []
   },
   "outputs": [
    {
     "data": {
      "text/html": [
       "<div>\n",
       "<style scoped>\n",
       "    .dataframe tbody tr th:only-of-type {\n",
       "        vertical-align: middle;\n",
       "    }\n",
       "\n",
       "    .dataframe tbody tr th {\n",
       "        vertical-align: top;\n",
       "    }\n",
       "\n",
       "    .dataframe thead th {\n",
       "        text-align: right;\n",
       "    }\n",
       "</style>\n",
       "<table border=\"1\" class=\"dataframe\">\n",
       "  <thead>\n",
       "    <tr style=\"text-align: right;\">\n",
       "      <th></th>\n",
       "      <th>instance_id</th>\n",
       "      <th>artist_name</th>\n",
       "      <th>track_name</th>\n",
       "      <th>popularity</th>\n",
       "      <th>acousticness</th>\n",
       "      <th>danceability</th>\n",
       "      <th>duration_ms</th>\n",
       "      <th>energy</th>\n",
       "      <th>instrumentalness</th>\n",
       "      <th>liveness</th>\n",
       "      <th>loudness</th>\n",
       "      <th>speechiness</th>\n",
       "      <th>tempo</th>\n",
       "      <th>valence</th>\n",
       "      <th>music_genre</th>\n",
       "    </tr>\n",
       "  </thead>\n",
       "  <tbody>\n",
       "    <tr>\n",
       "      <th>0</th>\n",
       "      <td>77382</td>\n",
       "      <td>Sheena Ringo</td>\n",
       "      <td>獣ゆく細道</td>\n",
       "      <td>48</td>\n",
       "      <td>0.01340</td>\n",
       "      <td>0.423</td>\n",
       "      <td>224053</td>\n",
       "      <td>0.799</td>\n",
       "      <td>0.000004</td>\n",
       "      <td>0.1470</td>\n",
       "      <td>-4.227</td>\n",
       "      <td>0.0447</td>\n",
       "      <td>124.626</td>\n",
       "      <td>0.5560</td>\n",
       "      <td>1</td>\n",
       "    </tr>\n",
       "    <tr>\n",
       "      <th>1</th>\n",
       "      <td>23554</td>\n",
       "      <td>empty_field</td>\n",
       "      <td>Fossil Roo</td>\n",
       "      <td>22</td>\n",
       "      <td>0.86200</td>\n",
       "      <td>0.590</td>\n",
       "      <td>151067</td>\n",
       "      <td>0.221</td>\n",
       "      <td>0.468000</td>\n",
       "      <td>0.0736</td>\n",
       "      <td>-16.338</td>\n",
       "      <td>0.0383</td>\n",
       "      <td>129.984</td>\n",
       "      <td>0.0331</td>\n",
       "      <td>1</td>\n",
       "    </tr>\n",
       "    <tr>\n",
       "      <th>2</th>\n",
       "      <td>82886</td>\n",
       "      <td>The Beatles</td>\n",
       "      <td>Dear Prudence - 2018 Mix</td>\n",
       "      <td>62</td>\n",
       "      <td>0.09040</td>\n",
       "      <td>0.395</td>\n",
       "      <td>234973</td>\n",
       "      <td>0.538</td>\n",
       "      <td>0.000453</td>\n",
       "      <td>0.0685</td>\n",
       "      <td>-10.300</td>\n",
       "      <td>0.0456</td>\n",
       "      <td>150.785</td>\n",
       "      <td>0.3690</td>\n",
       "      <td>9</td>\n",
       "    </tr>\n",
       "    <tr>\n",
       "      <th>3</th>\n",
       "      <td>37772</td>\n",
       "      <td>Pink Floyd</td>\n",
       "      <td>Have a Cigar</td>\n",
       "      <td>64</td>\n",
       "      <td>0.40700</td>\n",
       "      <td>0.454</td>\n",
       "      <td>307733</td>\n",
       "      <td>0.650</td>\n",
       "      <td>0.049800</td>\n",
       "      <td>0.5890</td>\n",
       "      <td>-10.191</td>\n",
       "      <td>0.0437</td>\n",
       "      <td>120.154</td>\n",
       "      <td>0.7200</td>\n",
       "      <td>9</td>\n",
       "    </tr>\n",
       "    <tr>\n",
       "      <th>4</th>\n",
       "      <td>80191</td>\n",
       "      <td>A-Trak</td>\n",
       "      <td>Push</td>\n",
       "      <td>43</td>\n",
       "      <td>0.00145</td>\n",
       "      <td>0.642</td>\n",
       "      <td>213512</td>\n",
       "      <td>0.877</td>\n",
       "      <td>0.002790</td>\n",
       "      <td>0.0984</td>\n",
       "      <td>-2.878</td>\n",
       "      <td>0.0450</td>\n",
       "      <td>126.058</td>\n",
       "      <td>0.4960</td>\n",
       "      <td>5</td>\n",
       "    </tr>\n",
       "    <tr>\n",
       "      <th>...</th>\n",
       "      <td>...</td>\n",
       "      <td>...</td>\n",
       "      <td>...</td>\n",
       "      <td>...</td>\n",
       "      <td>...</td>\n",
       "      <td>...</td>\n",
       "      <td>...</td>\n",
       "      <td>...</td>\n",
       "      <td>...</td>\n",
       "      <td>...</td>\n",
       "      <td>...</td>\n",
       "      <td>...</td>\n",
       "      <td>...</td>\n",
       "      <td>...</td>\n",
       "      <td>...</td>\n",
       "    </tr>\n",
       "    <tr>\n",
       "      <th>25953</th>\n",
       "      <td>70328</td>\n",
       "      <td>Tosca</td>\n",
       "      <td>Swimswimswim</td>\n",
       "      <td>57</td>\n",
       "      <td>0.01400</td>\n",
       "      <td>0.903</td>\n",
       "      <td>252245</td>\n",
       "      <td>0.545</td>\n",
       "      <td>0.004920</td>\n",
       "      <td>0.2240</td>\n",
       "      <td>-7.761</td>\n",
       "      <td>0.0380</td>\n",
       "      <td>120.017</td>\n",
       "      <td>0.9560</td>\n",
       "      <td>5</td>\n",
       "    </tr>\n",
       "    <tr>\n",
       "      <th>25954</th>\n",
       "      <td>65621</td>\n",
       "      <td>Wolfgang Amadeus Mozart</td>\n",
       "      <td>Requiem in D Minor, K. 626: II. Kyrie eleison ...</td>\n",
       "      <td>13</td>\n",
       "      <td>0.99300</td>\n",
       "      <td>0.275</td>\n",
       "      <td>179240</td>\n",
       "      <td>0.409</td>\n",
       "      <td>0.825000</td>\n",
       "      <td>0.2150</td>\n",
       "      <td>-16.666</td>\n",
       "      <td>0.0322</td>\n",
       "      <td>77.858</td>\n",
       "      <td>0.2250</td>\n",
       "      <td>3</td>\n",
       "    </tr>\n",
       "    <tr>\n",
       "      <th>25955</th>\n",
       "      <td>82975</td>\n",
       "      <td>Elmore James</td>\n",
       "      <td>Dust My Broom</td>\n",
       "      <td>43</td>\n",
       "      <td>0.01150</td>\n",
       "      <td>0.507</td>\n",
       "      <td>175040</td>\n",
       "      <td>0.660</td>\n",
       "      <td>0.336000</td>\n",
       "      <td>0.3220</td>\n",
       "      <td>-4.957</td>\n",
       "      <td>0.0306</td>\n",
       "      <td>100.783</td>\n",
       "      <td>0.6960</td>\n",
       "      <td>2</td>\n",
       "    </tr>\n",
       "    <tr>\n",
       "      <th>25956</th>\n",
       "      <td>36145</td>\n",
       "      <td>Wiz Khalifa</td>\n",
       "      <td>True Colors (feat. Nicki Minaj)</td>\n",
       "      <td>50</td>\n",
       "      <td>0.00451</td>\n",
       "      <td>0.805</td>\n",
       "      <td>255147</td>\n",
       "      <td>0.744</td>\n",
       "      <td>0.000000</td>\n",
       "      <td>0.3500</td>\n",
       "      <td>-6.020</td>\n",
       "      <td>0.0572</td>\n",
       "      <td>124.983</td>\n",
       "      <td>0.5190</td>\n",
       "      <td>6</td>\n",
       "    </tr>\n",
       "    <tr>\n",
       "      <th>25957</th>\n",
       "      <td>48372</td>\n",
       "      <td>Dreezy</td>\n",
       "      <td>Chanel Slides (feat. Kash Doll)</td>\n",
       "      <td>59</td>\n",
       "      <td>0.00570</td>\n",
       "      <td>0.809</td>\n",
       "      <td>174177</td>\n",
       "      <td>0.535</td>\n",
       "      <td>0.000000</td>\n",
       "      <td>0.3010</td>\n",
       "      <td>-6.186</td>\n",
       "      <td>0.0580</td>\n",
       "      <td>146.224</td>\n",
       "      <td>0.2260</td>\n",
       "      <td>8</td>\n",
       "    </tr>\n",
       "  </tbody>\n",
       "</table>\n",
       "<p>25958 rows × 15 columns</p>\n",
       "</div>"
      ],
      "text/plain": [
       "       instance_id              artist_name  \\\n",
       "0            77382             Sheena Ringo   \n",
       "1            23554              empty_field   \n",
       "2            82886              The Beatles   \n",
       "3            37772               Pink Floyd   \n",
       "4            80191                   A-Trak   \n",
       "...            ...                      ...   \n",
       "25953        70328                    Tosca   \n",
       "25954        65621  Wolfgang Amadeus Mozart   \n",
       "25955        82975             Elmore James   \n",
       "25956        36145              Wiz Khalifa   \n",
       "25957        48372                   Dreezy   \n",
       "\n",
       "                                              track_name  popularity  \\\n",
       "0                                                  獣ゆく細道          48   \n",
       "1                                             Fossil Roo          22   \n",
       "2                               Dear Prudence - 2018 Mix          62   \n",
       "3                                           Have a Cigar          64   \n",
       "4                                                   Push          43   \n",
       "...                                                  ...         ...   \n",
       "25953                                       Swimswimswim          57   \n",
       "25954  Requiem in D Minor, K. 626: II. Kyrie eleison ...          13   \n",
       "25955                                      Dust My Broom          43   \n",
       "25956                    True Colors (feat. Nicki Minaj)          50   \n",
       "25957                    Chanel Slides (feat. Kash Doll)          59   \n",
       "\n",
       "       acousticness  danceability  duration_ms  energy  instrumentalness  \\\n",
       "0           0.01340         0.423       224053   0.799          0.000004   \n",
       "1           0.86200         0.590       151067   0.221          0.468000   \n",
       "2           0.09040         0.395       234973   0.538          0.000453   \n",
       "3           0.40700         0.454       307733   0.650          0.049800   \n",
       "4           0.00145         0.642       213512   0.877          0.002790   \n",
       "...             ...           ...          ...     ...               ...   \n",
       "25953       0.01400         0.903       252245   0.545          0.004920   \n",
       "25954       0.99300         0.275       179240   0.409          0.825000   \n",
       "25955       0.01150         0.507       175040   0.660          0.336000   \n",
       "25956       0.00451         0.805       255147   0.744          0.000000   \n",
       "25957       0.00570         0.809       174177   0.535          0.000000   \n",
       "\n",
       "       liveness  loudness  speechiness    tempo  valence  music_genre  \n",
       "0        0.1470    -4.227       0.0447  124.626   0.5560            1  \n",
       "1        0.0736   -16.338       0.0383  129.984   0.0331            1  \n",
       "2        0.0685   -10.300       0.0456  150.785   0.3690            9  \n",
       "3        0.5890   -10.191       0.0437  120.154   0.7200            9  \n",
       "4        0.0984    -2.878       0.0450  126.058   0.4960            5  \n",
       "...         ...       ...          ...      ...      ...          ...  \n",
       "25953    0.2240    -7.761       0.0380  120.017   0.9560            5  \n",
       "25954    0.2150   -16.666       0.0322   77.858   0.2250            3  \n",
       "25955    0.3220    -4.957       0.0306  100.783   0.6960            2  \n",
       "25956    0.3500    -6.020       0.0572  124.983   0.5190            6  \n",
       "25957    0.3010    -6.186       0.0580  146.224   0.2260            8  \n",
       "\n",
       "[25958 rows x 15 columns]"
      ]
     },
     "execution_count": 2,
     "metadata": {},
     "output_type": "execute_result"
    }
   ],
   "source": [
    "data = pd.read_csv('FIT1043-MusicGenre-Dataset.csv')\n",
    "data"
   ]
  },
  {
   "cell_type": "markdown",
   "id": "4c01be26",
   "metadata": {
    "id": "a2d80c22",
    "papermill": {
     "duration": 0.013609,
     "end_time": "2023-05-05T07:55:11.034903",
     "exception": false,
     "start_time": "2023-05-05T07:55:11.021294",
     "status": "completed"
    },
    "tags": []
   },
   "source": [
    "### II. Target Variable or Music genres"
   ]
  },
  {
   "cell_type": "code",
   "execution_count": 3,
   "id": "c39eb0e6",
   "metadata": {
    "execution": {
     "iopub.execute_input": "2023-05-05T07:55:11.065681Z",
     "iopub.status.busy": "2023-05-05T07:55:11.064581Z",
     "iopub.status.idle": "2023-05-05T07:55:11.078996Z",
     "shell.execute_reply": "2023-05-05T07:55:11.077795Z"
    },
    "id": "4c66618d",
    "outputId": "4310f454-ebb2-4c3a-8762-5504676ee74d",
    "papermill": {
     "duration": 0.032524,
     "end_time": "2023-05-05T07:55:11.081231",
     "exception": false,
     "start_time": "2023-05-05T07:55:11.048707",
     "status": "completed"
    },
    "tags": []
   },
   "outputs": [
    {
     "name": "stdout",
     "output_type": "stream",
     "text": [
      "Index([2, 3, 6, 0, 9, 4, 7, 1, 5, 8], dtype='int64', name='music_genre')\n"
     ]
    }
   ],
   "source": [
    "print(data.music_genre.value_counts().index)"
   ]
  },
  {
   "cell_type": "code",
   "execution_count": 4,
   "id": "13658261",
   "metadata": {
    "execution": {
     "iopub.execute_input": "2023-05-05T07:55:11.111627Z",
     "iopub.status.busy": "2023-05-05T07:55:11.111035Z",
     "iopub.status.idle": "2023-05-05T07:55:11.121579Z",
     "shell.execute_reply": "2023-05-05T07:55:11.120818Z"
    },
    "id": "ad364312",
    "outputId": "55cb2b5d-1d9b-4bdc-f0e4-93bca7562397",
    "papermill": {
     "duration": 0.028503,
     "end_time": "2023-05-05T07:55:11.123574",
     "exception": false,
     "start_time": "2023-05-05T07:55:11.095071",
     "status": "completed"
    },
    "tags": []
   },
   "outputs": [
    {
     "data": {
      "text/plain": [
       "music_genre\n",
       "2    2667\n",
       "3    2626\n",
       "6    2617\n",
       "0    2616\n",
       "9    2593\n",
       "4    2586\n",
       "7    2578\n",
       "1    2575\n",
       "5    2574\n",
       "8    2526\n",
       "Name: count, dtype: int64"
      ]
     },
     "execution_count": 4,
     "metadata": {},
     "output_type": "execute_result"
    }
   ],
   "source": [
    "data.music_genre.value_counts()"
   ]
  },
  {
   "cell_type": "markdown",
   "id": "e606b55e",
   "metadata": {
    "id": "a7172116",
    "papermill": {
     "duration": 0.013424,
     "end_time": "2023-05-05T07:55:11.150720",
     "exception": false,
     "start_time": "2023-05-05T07:55:11.137296",
     "status": "completed"
    },
    "tags": []
   },
   "source": [
    "### III. Distribution of dataset"
   ]
  },
  {
   "cell_type": "code",
   "execution_count": 5,
   "id": "f9a4bf3b",
   "metadata": {
    "execution": {
     "iopub.execute_input": "2023-05-05T07:55:11.180951Z",
     "iopub.status.busy": "2023-05-05T07:55:11.180368Z",
     "iopub.status.idle": "2023-05-05T07:55:11.467827Z",
     "shell.execute_reply": "2023-05-05T07:55:11.466579Z"
    },
    "id": "88e58899",
    "outputId": "843b7a24-eb46-4536-ad0e-bb82c10586c1",
    "papermill": {
     "duration": 0.305895,
     "end_time": "2023-05-05T07:55:11.470356",
     "exception": false,
     "start_time": "2023-05-05T07:55:11.164461",
     "status": "completed"
    },
    "tags": []
   },
   "outputs": [
    {
     "data": {
      "text/plain": [
       "<BarContainer object of 10 artists>"
      ]
     },
     "execution_count": 5,
     "metadata": {},
     "output_type": "execute_result"
    },
    {
     "data": {
      "image/png": "[encoded data removed]",
      "text/plain": [
       "<Figure size 1000x500 with 1 Axes>"
      ]
     },
     "metadata": {},
     "output_type": "display_data"
    }
   ],
   "source": [
    "label = data.music_genre.value_counts().index\n",
    "values =  data.music_genre.value_counts().values\n",
    "list(label)\n",
    "list(values)\n",
    "plt.figure(figsize = (10 , 5))\n",
    "plt.bar(label , values , color = \"maroon\")"
   ]
  },
  {
   "cell_type": "markdown",
   "id": "e668159e",
   "metadata": {
    "id": "e598f1fb",
    "papermill": {
     "duration": 0.013661,
     "end_time": "2023-05-05T07:55:11.498241",
     "exception": false,
     "start_time": "2023-05-05T07:55:11.484580",
     "status": "completed"
    },
    "tags": []
   },
   "source": [
    "#### Insight: Data is uniformly distributed"
   ]
  },
  {
   "cell_type": "markdown",
   "id": "8029557b",
   "metadata": {
    "id": "436a11bD-KKU",
    "papermill": {
     "duration": 0.013902,
     "end_time": "2023-05-05T07:55:11.526017",
     "exception": false,
     "start_time": "2023-05-05T07:55:11.512115",
     "status": "completed"
    },
    "tags": []
   },
   "source": [
    "### IV Types of Attributes"
   ]
  },
  {
   "cell_type": "code",
   "execution_count": 6,
   "id": "adef2990",
   "metadata": {
    "execution": {
     "iopub.execute_input": "2023-05-05T07:55:11.555485Z",
     "iopub.status.busy": "2023-05-05T07:55:11.555082Z",
     "iopub.status.idle": "2023-05-05T07:55:11.632162Z",
     "shell.execute_reply": "2023-05-05T07:55:11.631047Z"
    },
    "id": "152bb86e",
    "outputId": "4fd1ad33-517a-4eb4-af3b-bd9b5fa3e1e1",
    "papermill": {
     "duration": 0.094459,
     "end_time": "2023-05-05T07:55:11.634328",
     "exception": false,
     "start_time": "2023-05-05T07:55:11.539869",
     "status": "completed"
    },
    "tags": []
   },
   "outputs": [
    {
     "name": "stdout",
     "output_type": "stream",
     "text": [
      "<class 'pandas.core.frame.DataFrame'>\n",
      "RangeIndex: 25958 entries, 0 to 25957\n",
      "Data columns (total 15 columns):\n",
      " #   Column            Non-Null Count  Dtype  \n",
      "---  ------            --------------  -----  \n",
      " 0   instance_id       25958 non-null  int64  \n",
      " 1   artist_name       25958 non-null  object \n",
      " 2   track_name        25958 non-null  object \n",
      " 3   popularity        25958 non-null  int64  \n",
      " 4   acousticness      25958 non-null  float64\n",
      " 5   danceability      25958 non-null  float64\n",
      " 6   duration_ms       25958 non-null  int64  \n",
      " 7   energy            25958 non-null  float64\n",
      " 8   instrumentalness  25958 non-null  float64\n",
      " 9   liveness          25958 non-null  float64\n",
      " 10  loudness          25958 non-null  float64\n",
      " 11  speechiness       25958 non-null  float64\n",
      " 12  tempo             25958 non-null  float64\n",
      " 13  valence           25958 non-null  float64\n",
      " 14  music_genre       25958 non-null  int64  \n",
      "dtypes: float64(9), int64(4), object(2)\n",
      "memory usage: 3.0+ MB\n"
     ]
    }
   ],
   "source": [
    "data.info()"
   ]
  },
  {
   "cell_type": "code",
   "execution_count": 7,
   "id": "0a76f9b3",
   "metadata": {
    "execution": {
     "iopub.execute_input": "2023-05-05T07:55:11.665570Z",
     "iopub.status.busy": "2023-05-05T07:55:11.664748Z",
     "iopub.status.idle": "2023-05-05T07:55:11.670713Z",
     "shell.execute_reply": "2023-05-05T07:55:11.669459Z"
    },
    "id": "N0QmvwRScheq",
    "outputId": "97f969eb-f754-4790-f694-50a0217daade",
    "papermill": {
     "duration": 0.023768,
     "end_time": "2023-05-05T07:55:11.672836",
     "exception": false,
     "start_time": "2023-05-05T07:55:11.649068",
     "status": "completed"
    },
    "scrolled": true,
    "tags": []
   },
   "outputs": [
    {
     "name": "stdout",
     "output_type": "stream",
     "text": [
      "Categorical Features: 2\n",
      "Numerical Features: 9\n"
     ]
    }
   ],
   "source": [
    "print(f'Categorical Features: {len([x for x in data.columns if data[x].dtype == object])}')\n",
    "print(f'Numerical Features: {len([x for x in data.columns if data[x].dtype == float])}')"
   ]
  },
  {
   "cell_type": "markdown",
   "id": "5ab7c6c8",
   "metadata": {
    "id": "e7aad26d",
    "papermill": {
     "duration": 0.014113,
     "end_time": "2023-05-05T07:55:11.701131",
     "exception": false,
     "start_time": "2023-05-05T07:55:11.687018",
     "status": "completed"
    },
    "tags": []
   },
   "source": [
    "#### Insights : We can see there are 18 features. Out of 18, 7 are categorical and rest are numerical features but tempo should be numerical. So it is handled\n",
    "\n"
   ]
  },
  {
   "cell_type": "code",
   "execution_count": 8,
   "id": "0c9a8d10",
   "metadata": {
    "execution": {
     "iopub.execute_input": "2023-05-05T07:55:11.732362Z",
     "iopub.status.busy": "2023-05-05T07:55:11.731297Z",
     "iopub.status.idle": "2023-05-05T07:55:11.738068Z",
     "shell.execute_reply": "2023-05-05T07:55:11.736946Z"
    },
    "id": "vH8IJZwBEZBL",
    "outputId": "03a64093-280f-44fb-ff6f-56aa7f358f55",
    "papermill": {
     "duration": 0.024504,
     "end_time": "2023-05-05T07:55:11.740426",
     "exception": false,
     "start_time": "2023-05-05T07:55:11.715922",
     "status": "completed"
    },
    "tags": []
   },
   "outputs": [
    {
     "name": "stdout",
     "output_type": "stream",
     "text": [
      "<bound method IndexOpsMixin.value_counts of 0        124.626\n",
      "1        129.984\n",
      "2        150.785\n",
      "3        120.154\n",
      "4        126.058\n",
      "          ...   \n",
      "25953    120.017\n",
      "25954     77.858\n",
      "25955    100.783\n",
      "25956    124.983\n",
      "25957    146.224\n",
      "Name: tempo, Length: 25958, dtype: float64>\n"
     ]
    }
   ],
   "source": [
    "print(data['tempo'].value_counts)"
   ]
  },
  {
   "cell_type": "code",
   "execution_count": 9,
   "id": "85fc86f0",
   "metadata": {
    "execution": {
     "iopub.execute_input": "2023-05-05T07:55:11.771451Z",
     "iopub.status.busy": "2023-05-05T07:55:11.771078Z",
     "iopub.status.idle": "2023-05-05T07:55:11.805994Z",
     "shell.execute_reply": "2023-05-05T07:55:11.804827Z"
    },
    "id": "G8Mc1vysEUsq",
    "outputId": "52f21c85-e555-4a29-806a-58baaec6bfc0",
    "papermill": {
     "duration": 0.053075,
     "end_time": "2023-05-05T07:55:11.808598",
     "exception": false,
     "start_time": "2023-05-05T07:55:11.755523",
     "status": "completed"
    },
    "tags": []
   },
   "outputs": [
    {
     "name": "stdout",
     "output_type": "stream",
     "text": [
      "Categorical Features: 2\n",
      "Numerical Features: 9\n"
     ]
    }
   ],
   "source": [
    "\n",
    "data.drop(data[data['tempo'] == '?'].index , inplace = True)\n",
    "data[\"tempo\"] = data[\"tempo\"].astype(float)\n",
    "\n",
    "print(f'Categorical Features: {len([x for x in data.columns if data[x].dtype == object])}')\n",
    "print(f'Numerical Features: {len([x for x in data.columns if data[x].dtype == float])}')\n"
   ]
  },
  {
   "cell_type": "code",
   "execution_count": 10,
   "id": "f9411a92",
   "metadata": {
    "execution": {
     "iopub.execute_input": "2023-05-05T07:55:11.839446Z",
     "iopub.status.busy": "2023-05-05T07:55:11.839074Z",
     "iopub.status.idle": "2023-05-05T07:55:11.844561Z",
     "shell.execute_reply": "2023-05-05T07:55:11.843401Z"
    },
    "papermill": {
     "duration": 0.023472,
     "end_time": "2023-05-05T07:55:11.846868",
     "exception": false,
     "start_time": "2023-05-05T07:55:11.823396",
     "status": "completed"
    },
    "tags": []
   },
   "outputs": [
    {
     "name": "stdout",
     "output_type": "stream",
     "text": [
      "(25958, 15)\n"
     ]
    }
   ],
   "source": [
    "print(data.shape)"
   ]
  },
  {
   "cell_type": "markdown",
   "id": "2581e342",
   "metadata": {
    "id": "YYc-2lBQejY_",
    "papermill": {
     "duration": 0.014356,
     "end_time": "2023-05-05T07:55:11.875837",
     "exception": false,
     "start_time": "2023-05-05T07:55:11.861481",
     "status": "completed"
    },
    "tags": []
   },
   "source": [
    "# **Descriptive statistics of data**"
   ]
  },
  {
   "cell_type": "code",
   "execution_count": 11,
   "id": "1f4de11f",
   "metadata": {
    "execution": {
     "iopub.execute_input": "2023-05-05T07:55:11.906035Z",
     "iopub.status.busy": "2023-05-05T07:55:11.905605Z",
     "iopub.status.idle": "2023-05-05T07:55:11.992811Z",
     "shell.execute_reply": "2023-05-05T07:55:11.990950Z"
    },
    "id": "8rpV_o0ce7ZQ",
    "outputId": "1d298a17-7cd1-42c5-ab28-d48d7faf987e",
    "papermill": {
     "duration": 0.105637,
     "end_time": "2023-05-05T07:55:11.995683",
     "exception": false,
     "start_time": "2023-05-05T07:55:11.890046",
     "status": "completed"
    },
    "tags": []
   },
   "outputs": [
    {
     "data": {
      "text/html": [
       "<div>\n",
       "<style scoped>\n",
       "    .dataframe tbody tr th:only-of-type {\n",
       "        vertical-align: middle;\n",
       "    }\n",
       "\n",
       "    .dataframe tbody tr th {\n",
       "        vertical-align: top;\n",
       "    }\n",
       "\n",
       "    .dataframe thead th {\n",
       "        text-align: right;\n",
       "    }\n",
       "</style>\n",
       "<table border=\"1\" class=\"dataframe\">\n",
       "  <thead>\n",
       "    <tr style=\"text-align: right;\">\n",
       "      <th></th>\n",
       "      <th>instance_id</th>\n",
       "      <th>popularity</th>\n",
       "      <th>acousticness</th>\n",
       "      <th>danceability</th>\n",
       "      <th>duration_ms</th>\n",
       "      <th>energy</th>\n",
       "      <th>instrumentalness</th>\n",
       "      <th>liveness</th>\n",
       "      <th>loudness</th>\n",
       "      <th>speechiness</th>\n",
       "      <th>tempo</th>\n",
       "      <th>valence</th>\n",
       "      <th>music_genre</th>\n",
       "    </tr>\n",
       "  </thead>\n",
       "  <tbody>\n",
       "    <tr>\n",
       "      <th>count</th>\n",
       "      <td>25958.000000</td>\n",
       "      <td>25958.000000</td>\n",
       "      <td>25958.000000</td>\n",
       "      <td>25958.000000</td>\n",
       "      <td>2.595800e+04</td>\n",
       "      <td>25958.000000</td>\n",
       "      <td>25958.000000</td>\n",
       "      <td>25958.000000</td>\n",
       "      <td>25958.000000</td>\n",
       "      <td>25958.000000</td>\n",
       "      <td>25958.000000</td>\n",
       "      <td>25958.000000</td>\n",
       "      <td>25958.000000</td>\n",
       "    </tr>\n",
       "    <tr>\n",
       "      <th>mean</th>\n",
       "      <td>55769.941251</td>\n",
       "      <td>44.168541</td>\n",
       "      <td>0.307858</td>\n",
       "      <td>0.557978</td>\n",
       "      <td>2.454655e+05</td>\n",
       "      <td>0.599596</td>\n",
       "      <td>0.182954</td>\n",
       "      <td>0.193972</td>\n",
       "      <td>-9.167320</td>\n",
       "      <td>0.094058</td>\n",
       "      <td>120.003122</td>\n",
       "      <td>0.458558</td>\n",
       "      <td>4.480083</td>\n",
       "    </tr>\n",
       "    <tr>\n",
       "      <th>std</th>\n",
       "      <td>20762.395950</td>\n",
       "      <td>15.547882</td>\n",
       "      <td>0.342093</td>\n",
       "      <td>0.178840</td>\n",
       "      <td>1.105926e+05</td>\n",
       "      <td>0.265468</td>\n",
       "      <td>0.326709</td>\n",
       "      <td>0.162042</td>\n",
       "      <td>6.180744</td>\n",
       "      <td>0.102968</td>\n",
       "      <td>30.612044</td>\n",
       "      <td>0.247895</td>\n",
       "      <td>2.870148</td>\n",
       "    </tr>\n",
       "    <tr>\n",
       "      <th>min</th>\n",
       "      <td>20005.000000</td>\n",
       "      <td>0.000000</td>\n",
       "      <td>0.000000</td>\n",
       "      <td>0.059600</td>\n",
       "      <td>1.631600e+04</td>\n",
       "      <td>0.000792</td>\n",
       "      <td>0.000000</td>\n",
       "      <td>0.009670</td>\n",
       "      <td>-47.046000</td>\n",
       "      <td>0.022300</td>\n",
       "      <td>34.347000</td>\n",
       "      <td>0.000000</td>\n",
       "      <td>0.000000</td>\n",
       "    </tr>\n",
       "    <tr>\n",
       "      <th>25%</th>\n",
       "      <td>37843.500000</td>\n",
       "      <td>34.000000</td>\n",
       "      <td>0.020300</td>\n",
       "      <td>0.442000</td>\n",
       "      <td>1.904285e+05</td>\n",
       "      <td>0.430000</td>\n",
       "      <td>0.000000</td>\n",
       "      <td>0.096900</td>\n",
       "      <td>-10.898000</td>\n",
       "      <td>0.035900</td>\n",
       "      <td>94.986000</td>\n",
       "      <td>0.260000</td>\n",
       "      <td>2.000000</td>\n",
       "    </tr>\n",
       "    <tr>\n",
       "      <th>50%</th>\n",
       "      <td>55740.500000</td>\n",
       "      <td>45.000000</td>\n",
       "      <td>0.146000</td>\n",
       "      <td>0.569000</td>\n",
       "      <td>2.275015e+05</td>\n",
       "      <td>0.645000</td>\n",
       "      <td>0.000167</td>\n",
       "      <td>0.126000</td>\n",
       "      <td>-7.293000</td>\n",
       "      <td>0.048700</td>\n",
       "      <td>119.848500</td>\n",
       "      <td>0.451000</td>\n",
       "      <td>4.000000</td>\n",
       "    </tr>\n",
       "    <tr>\n",
       "      <th>75%</th>\n",
       "      <td>73777.750000</td>\n",
       "      <td>55.000000</td>\n",
       "      <td>0.553000</td>\n",
       "      <td>0.686000</td>\n",
       "      <td>2.758930e+05</td>\n",
       "      <td>0.817000</td>\n",
       "      <td>0.158000</td>\n",
       "      <td>0.243000</td>\n",
       "      <td>-5.185000</td>\n",
       "      <td>0.098575</td>\n",
       "      <td>140.493750</td>\n",
       "      <td>0.650000</td>\n",
       "      <td>7.000000</td>\n",
       "    </tr>\n",
       "    <tr>\n",
       "      <th>max</th>\n",
       "      <td>91759.000000</td>\n",
       "      <td>99.000000</td>\n",
       "      <td>0.996000</td>\n",
       "      <td>0.986000</td>\n",
       "      <td>4.497994e+06</td>\n",
       "      <td>0.999000</td>\n",
       "      <td>0.996000</td>\n",
       "      <td>1.000000</td>\n",
       "      <td>3.744000</td>\n",
       "      <td>0.942000</td>\n",
       "      <td>220.276000</td>\n",
       "      <td>0.989000</td>\n",
       "      <td>9.000000</td>\n",
       "    </tr>\n",
       "  </tbody>\n",
       "</table>\n",
       "</div>"
      ],
      "text/plain": [
       "        instance_id    popularity  acousticness  danceability   duration_ms  \\\n",
       "count  25958.000000  25958.000000  25958.000000  25958.000000  2.595800e+04   \n",
       "mean   55769.941251     44.168541      0.307858      0.557978  2.454655e+05   \n",
       "std    20762.395950     15.547882      0.342093      0.178840  1.105926e+05   \n",
       "min    20005.000000      0.000000      0.000000      0.059600  1.631600e+04   \n",
       "25%    37843.500000     34.000000      0.020300      0.442000  1.904285e+05   \n",
       "50%    55740.500000     45.000000      0.146000      0.569000  2.275015e+05   \n",
       "75%    73777.750000     55.000000      0.553000      0.686000  2.758930e+05   \n",
       "max    91759.000000     99.000000      0.996000      0.986000  4.497994e+06   \n",
       "\n",
       "             energy  instrumentalness      liveness      loudness  \\\n",
       "count  25958.000000      25958.000000  25958.000000  25958.000000   \n",
       "mean       0.599596          0.182954      0.193972     -9.167320   \n",
       "std        0.265468          0.326709      0.162042      6.180744   \n",
       "min        0.000792          0.000000      0.009670    -47.046000   \n",
       "25%        0.430000          0.000000      0.096900    -10.898000   \n",
       "50%        0.645000          0.000167      0.126000     -7.293000   \n",
       "75%        0.817000          0.158000      0.243000     -5.185000   \n",
       "max        0.999000          0.996000      1.000000      3.744000   \n",
       "\n",
       "        speechiness         tempo       valence   music_genre  \n",
       "count  25958.000000  25958.000000  25958.000000  25958.000000  \n",
       "mean       0.094058    120.003122      0.458558      4.480083  \n",
       "std        0.102968     30.612044      0.247895      2.870148  \n",
       "min        0.022300     34.347000      0.000000      0.000000  \n",
       "25%        0.035900     94.986000      0.260000      2.000000  \n",
       "50%        0.048700    119.848500      0.451000      4.000000  \n",
       "75%        0.098575    140.493750      0.650000      7.000000  \n",
       "max        0.942000    220.276000      0.989000      9.000000  "
      ]
     },
     "execution_count": 11,
     "metadata": {},
     "output_type": "execute_result"
    }
   ],
   "source": [
    "## For Numerical columns only\n",
    "data.describe(include=[np.number])"
   ]
  },
  {
   "cell_type": "code",
   "execution_count": 12,
   "id": "8e2551d2",
   "metadata": {
    "execution": {
     "iopub.execute_input": "2023-05-05T07:55:12.027587Z",
     "iopub.status.busy": "2023-05-05T07:55:12.027082Z",
     "iopub.status.idle": "2023-05-05T07:55:12.102250Z",
     "shell.execute_reply": "2023-05-05T07:55:12.101221Z"
    },
    "id": "Be-b2yLmfE6i",
    "outputId": "b89df846-981b-42db-90b3-3600b106265e",
    "papermill": {
     "duration": 0.094147,
     "end_time": "2023-05-05T07:55:12.104689",
     "exception": false,
     "start_time": "2023-05-05T07:55:12.010542",
     "status": "completed"
    },
    "tags": []
   },
   "outputs": [
    {
     "data": {
      "text/html": [
       "<div>\n",
       "<style scoped>\n",
       "    .dataframe tbody tr th:only-of-type {\n",
       "        vertical-align: middle;\n",
       "    }\n",
       "\n",
       "    .dataframe tbody tr th {\n",
       "        vertical-align: top;\n",
       "    }\n",
       "\n",
       "    .dataframe thead th {\n",
       "        text-align: right;\n",
       "    }\n",
       "</style>\n",
       "<table border=\"1\" class=\"dataframe\">\n",
       "  <thead>\n",
       "    <tr style=\"text-align: right;\">\n",
       "      <th></th>\n",
       "      <th>artist_name</th>\n",
       "      <th>track_name</th>\n",
       "    </tr>\n",
       "  </thead>\n",
       "  <tbody>\n",
       "    <tr>\n",
       "      <th>count</th>\n",
       "      <td>25958</td>\n",
       "      <td>25958</td>\n",
       "    </tr>\n",
       "    <tr>\n",
       "      <th>unique</th>\n",
       "      <td>5367</td>\n",
       "      <td>23240</td>\n",
       "    </tr>\n",
       "    <tr>\n",
       "      <th>top</th>\n",
       "      <td>empty_field</td>\n",
       "      <td>Forever</td>\n",
       "    </tr>\n",
       "    <tr>\n",
       "      <th>freq</th>\n",
       "      <td>1273</td>\n",
       "      <td>10</td>\n",
       "    </tr>\n",
       "  </tbody>\n",
       "</table>\n",
       "</div>"
      ],
      "text/plain": [
       "        artist_name track_name\n",
       "count         25958      25958\n",
       "unique         5367      23240\n",
       "top     empty_field    Forever\n",
       "freq           1273         10"
      ]
     },
     "execution_count": 12,
     "metadata": {},
     "output_type": "execute_result"
    }
   ],
   "source": [
    "## For string/Object type (Categorical) columns only\n",
    "data.describe(include=['O'])"
   ]
  },
  {
   "cell_type": "markdown",
   "id": "36a64bf6",
   "metadata": {
    "papermill": {
     "duration": 0.014411,
     "end_time": "2023-05-05T07:55:12.134313",
     "exception": false,
     "start_time": "2023-05-05T07:55:12.119902",
     "status": "completed"
    },
    "tags": []
   },
   "source": [
    "# Data visualization"
   ]
  },
  {
   "cell_type": "markdown",
   "id": "66ecd89d",
   "metadata": {
    "id": "TOUx993nfTxq",
    "papermill": {
     "duration": 0.015116,
     "end_time": "2023-05-05T07:55:12.164097",
     "exception": false,
     "start_time": "2023-05-05T07:55:12.148981",
     "status": "completed"
    },
    "tags": []
   },
   "source": [
    "## 1. Plot Histograms\n"
   ]
  },
  {
   "cell_type": "code",
   "execution_count": 13,
   "id": "a14aeda9",
   "metadata": {
    "execution": {
     "iopub.execute_input": "2023-05-05T07:55:12.197114Z",
     "iopub.status.busy": "2023-05-05T07:55:12.196738Z",
     "iopub.status.idle": "2023-05-05T07:55:14.074715Z",
     "shell.execute_reply": "2023-05-05T07:55:14.073826Z"
    },
    "id": "gbKQGZtLfgJN",
    "outputId": "65fbc3e9-ee67-424a-eeee-565593ba8e12",
    "papermill": {
     "duration": 1.896582,
     "end_time": "2023-05-05T07:55:14.076890",
     "exception": false,
     "start_time": "2023-05-05T07:55:12.180308",
     "status": "completed"
    },
    "tags": []
   },
   "outputs": [
    {
     "name": "stderr",
     "output_type": "stream",
     "text": [
      "C:\\Users\\zfeng\\AppData\\Local\\Temp\\ipykernel_9800\\4116282413.py:5: UserWarning: To output multiple subplots, the figure containing the passed axes is being cleared.\n",
      "  data.select_dtypes(include=np.number).hist(ax =ax)\n"
     ]
    },
    {
     "data": {
      "image/png": "[encoded data removed]",
      "text/plain": [
       "<Figure size 1500x1200 with 16 Axes>"
      ]
     },
     "metadata": {},
     "output_type": "display_data"
    }
   ],
   "source": [
    "import matplotlib.pyplot as plt\n",
    "\n",
    "fig = plt.figure(figsize = (15,12))\n",
    "ax = plt.axes()\n",
    "data.select_dtypes(include=np.number).hist(ax =ax)\n",
    "plt.show()"
   ]
  },
  {
   "cell_type": "markdown",
   "id": "d53f0df3",
   "metadata": {
    "id": "LZUBVPpegs3W",
    "papermill": {
     "duration": 0.018957,
     "end_time": "2023-05-05T07:55:14.114826",
     "exception": false,
     "start_time": "2023-05-05T07:55:14.095869",
     "status": "completed"
    },
    "tags": []
   },
   "source": [
    "#### From histogram plot, we can see distribution of each features. #More to add about insights"
   ]
  },
  {
   "cell_type": "markdown",
   "id": "8a4feba0",
   "metadata": {
    "id": "uRftzU9RhHyv",
    "papermill": {
     "duration": 0.018729,
     "end_time": "2023-05-05T07:55:16.898067",
     "exception": false,
     "start_time": "2023-05-05T07:55:16.879338",
     "status": "completed"
    },
    "tags": []
   },
   "source": [
    "## Plot correlation matrix for numerical features\n"
   ]
  },
  {
   "cell_type": "code",
   "execution_count": 14,
   "id": "ce4fe058",
   "metadata": {
    "execution": {
     "iopub.execute_input": "2023-05-05T07:55:16.938237Z",
     "iopub.status.busy": "2023-05-05T07:55:16.937823Z",
     "iopub.status.idle": "2023-05-05T07:55:17.486321Z",
     "shell.execute_reply": "2023-05-05T07:55:17.485047Z"
    },
    "id": "1SAkDKV9hQR8",
    "outputId": "9b690eec-fcc1-43d7-934c-ad632b662f5b",
    "papermill": {
     "duration": 0.571397,
     "end_time": "2023-05-05T07:55:17.489038",
     "exception": false,
     "start_time": "2023-05-05T07:55:16.917641",
     "status": "completed"
    },
    "tags": []
   },
   "outputs": [
    {
     "data": {
      "text/plain": [
       "<Axes: >"
      ]
     },
     "execution_count": 14,
     "metadata": {},
     "output_type": "execute_result"
    },
    {
     "data": {
      "image/png": "[encoded data removed]",
      "text/plain": [
       "<Figure size 1000x800 with 2 Axes>"
      ]
     },
     "metadata": {},
     "output_type": "display_data"
    }
   ],
   "source": [
    "plt.rcParams['figure.figsize'] = 10, 8\n",
    "sns.heatmap(data.select_dtypes(include=np.number).corr(), \n",
    "            vmin=-1, vmax=1, center=0, cmap=sns.diverging_palette(220, 20, n=200))"
   ]
  },
  {
   "cell_type": "markdown",
   "id": "8b7a06ff",
   "metadata": {
    "id": "0xLQ8TaQrhyh",
    "papermill": {
     "duration": 0.020893,
     "end_time": "2023-05-05T07:55:17.529777",
     "exception": false,
     "start_time": "2023-05-05T07:55:17.508884",
     "status": "completed"
    },
    "tags": []
   },
   "source": [
    "#### Insight: Here we can see loudness and energy are highly correlated. We can remove one of them."
   ]
  },
  {
   "cell_type": "markdown",
   "id": "29448086",
   "metadata": {
    "id": "_z3JQlTamgdc",
    "papermill": {
     "duration": 0.020313,
     "end_time": "2023-05-05T07:55:17.570135",
     "exception": false,
     "start_time": "2023-05-05T07:55:17.549822",
     "status": "completed"
    },
    "tags": []
   },
   "source": [
    "Box plot"
   ]
  },
  {
   "cell_type": "code",
   "execution_count": 15,
   "id": "bc98b5c7",
   "metadata": {
    "execution": {
     "iopub.execute_input": "2023-05-05T07:55:17.613709Z",
     "iopub.status.busy": "2023-05-05T07:55:17.613318Z",
     "iopub.status.idle": "2023-05-05T07:55:18.655282Z",
     "shell.execute_reply": "2023-05-05T07:55:18.654179Z"
    },
    "id": "UGD-WCHcmlX8",
    "outputId": "1a28bedc-6da3-45e5-dbe7-98e77cc45435",
    "papermill": {
     "duration": 1.066843,
     "end_time": "2023-05-05T07:55:18.657840",
     "exception": false,
     "start_time": "2023-05-05T07:55:17.590997",
     "status": "completed"
    },
    "tags": []
   },
   "outputs": [
    {
     "data": {
      "text/plain": [
       "<Axes: >"
      ]
     },
     "execution_count": 15,
     "metadata": {},
     "output_type": "execute_result"
    },
    {
     "data": {
      "image/png": "[encoded data removed]",
      "text/plain": [
       "<Figure size 3000x1000 with 1 Axes>"
      ]
     },
     "metadata": {},
     "output_type": "display_data"
    }
   ],
   "source": [
    "plt.rcParams['figure.figsize'] = 30, 10\n",
    "data.select_dtypes(include=np.number).boxplot()\n"
   ]
  },
  {
   "cell_type": "markdown",
   "id": "c2fcdda9",
   "metadata": {
    "id": "BSr5WEynm4kB",
    "papermill": {
     "duration": 0.023031,
     "end_time": "2023-05-05T07:55:18.703195",
     "exception": false,
     "start_time": "2023-05-05T07:55:18.680164",
     "status": "completed"
    },
    "tags": []
   },
   "source": [
    "#### Insight: We found the most outliers in duration_ms. So handling it..."
   ]
  },
  {
   "cell_type": "code",
   "execution_count": 16,
   "id": "91daf205",
   "metadata": {
    "execution": {
     "iopub.execute_input": "2023-05-05T07:55:18.757931Z",
     "iopub.status.busy": "2023-05-05T07:55:18.757054Z",
     "iopub.status.idle": "2023-05-05T07:55:18.785170Z",
     "shell.execute_reply": "2023-05-05T07:55:18.784334Z"
    },
    "id": "ce6c8fdd",
    "papermill": {
     "duration": 0.062175,
     "end_time": "2023-05-05T07:55:18.787838",
     "exception": false,
     "start_time": "2023-05-05T07:55:18.725663",
     "status": "completed"
    },
    "tags": []
   },
   "outputs": [
    {
     "data": {
      "text/html": [
       "<div>\n",
       "<style scoped>\n",
       "    .dataframe tbody tr th:only-of-type {\n",
       "        vertical-align: middle;\n",
       "    }\n",
       "\n",
       "    .dataframe tbody tr th {\n",
       "        vertical-align: top;\n",
       "    }\n",
       "\n",
       "    .dataframe thead th {\n",
       "        text-align: right;\n",
       "    }\n",
       "</style>\n",
       "<table border=\"1\" class=\"dataframe\">\n",
       "  <thead>\n",
       "    <tr style=\"text-align: right;\">\n",
       "      <th></th>\n",
       "      <th>instance_id</th>\n",
       "      <th>artist_name</th>\n",
       "      <th>track_name</th>\n",
       "      <th>popularity</th>\n",
       "      <th>acousticness</th>\n",
       "      <th>danceability</th>\n",
       "      <th>duration_ms</th>\n",
       "      <th>energy</th>\n",
       "      <th>instrumentalness</th>\n",
       "      <th>liveness</th>\n",
       "      <th>loudness</th>\n",
       "      <th>speechiness</th>\n",
       "      <th>tempo</th>\n",
       "      <th>valence</th>\n",
       "      <th>music_genre</th>\n",
       "    </tr>\n",
       "  </thead>\n",
       "  <tbody>\n",
       "    <tr>\n",
       "      <th>0</th>\n",
       "      <td>77382</td>\n",
       "      <td>Sheena Ringo</td>\n",
       "      <td>獣ゆく細道</td>\n",
       "      <td>48</td>\n",
       "      <td>0.01340</td>\n",
       "      <td>0.423</td>\n",
       "      <td>224.053</td>\n",
       "      <td>0.799</td>\n",
       "      <td>0.000004</td>\n",
       "      <td>0.1470</td>\n",
       "      <td>-4.227</td>\n",
       "      <td>0.0447</td>\n",
       "      <td>124.626</td>\n",
       "      <td>0.5560</td>\n",
       "      <td>1</td>\n",
       "    </tr>\n",
       "    <tr>\n",
       "      <th>1</th>\n",
       "      <td>23554</td>\n",
       "      <td>empty_field</td>\n",
       "      <td>Fossil Roo</td>\n",
       "      <td>22</td>\n",
       "      <td>0.86200</td>\n",
       "      <td>0.590</td>\n",
       "      <td>151.067</td>\n",
       "      <td>0.221</td>\n",
       "      <td>0.468000</td>\n",
       "      <td>0.0736</td>\n",
       "      <td>-16.338</td>\n",
       "      <td>0.0383</td>\n",
       "      <td>129.984</td>\n",
       "      <td>0.0331</td>\n",
       "      <td>1</td>\n",
       "    </tr>\n",
       "    <tr>\n",
       "      <th>2</th>\n",
       "      <td>82886</td>\n",
       "      <td>The Beatles</td>\n",
       "      <td>Dear Prudence - 2018 Mix</td>\n",
       "      <td>62</td>\n",
       "      <td>0.09040</td>\n",
       "      <td>0.395</td>\n",
       "      <td>234.973</td>\n",
       "      <td>0.538</td>\n",
       "      <td>0.000453</td>\n",
       "      <td>0.0685</td>\n",
       "      <td>-10.300</td>\n",
       "      <td>0.0456</td>\n",
       "      <td>150.785</td>\n",
       "      <td>0.3690</td>\n",
       "      <td>9</td>\n",
       "    </tr>\n",
       "    <tr>\n",
       "      <th>3</th>\n",
       "      <td>37772</td>\n",
       "      <td>Pink Floyd</td>\n",
       "      <td>Have a Cigar</td>\n",
       "      <td>64</td>\n",
       "      <td>0.40700</td>\n",
       "      <td>0.454</td>\n",
       "      <td>307.733</td>\n",
       "      <td>0.650</td>\n",
       "      <td>0.049800</td>\n",
       "      <td>0.5890</td>\n",
       "      <td>-10.191</td>\n",
       "      <td>0.0437</td>\n",
       "      <td>120.154</td>\n",
       "      <td>0.7200</td>\n",
       "      <td>9</td>\n",
       "    </tr>\n",
       "    <tr>\n",
       "      <th>4</th>\n",
       "      <td>80191</td>\n",
       "      <td>A-Trak</td>\n",
       "      <td>Push</td>\n",
       "      <td>43</td>\n",
       "      <td>0.00145</td>\n",
       "      <td>0.642</td>\n",
       "      <td>213.512</td>\n",
       "      <td>0.877</td>\n",
       "      <td>0.002790</td>\n",
       "      <td>0.0984</td>\n",
       "      <td>-2.878</td>\n",
       "      <td>0.0450</td>\n",
       "      <td>126.058</td>\n",
       "      <td>0.4960</td>\n",
       "      <td>5</td>\n",
       "    </tr>\n",
       "  </tbody>\n",
       "</table>\n",
       "</div>"
      ],
      "text/plain": [
       "   instance_id   artist_name                track_name  popularity  \\\n",
       "0        77382  Sheena Ringo                     獣ゆく細道          48   \n",
       "1        23554   empty_field                Fossil Roo          22   \n",
       "2        82886   The Beatles  Dear Prudence - 2018 Mix          62   \n",
       "3        37772    Pink Floyd              Have a Cigar          64   \n",
       "4        80191        A-Trak                      Push          43   \n",
       "\n",
       "   acousticness  danceability  duration_ms  energy  instrumentalness  \\\n",
       "0       0.01340         0.423      224.053   0.799          0.000004   \n",
       "1       0.86200         0.590      151.067   0.221          0.468000   \n",
       "2       0.09040         0.395      234.973   0.538          0.000453   \n",
       "3       0.40700         0.454      307.733   0.650          0.049800   \n",
       "4       0.00145         0.642      213.512   0.877          0.002790   \n",
       "\n",
       "   liveness  loudness  speechiness    tempo  valence  music_genre  \n",
       "0    0.1470    -4.227       0.0447  124.626   0.5560            1  \n",
       "1    0.0736   -16.338       0.0383  129.984   0.0331            1  \n",
       "2    0.0685   -10.300       0.0456  150.785   0.3690            9  \n",
       "3    0.5890   -10.191       0.0437  120.154   0.7200            9  \n",
       "4    0.0984    -2.878       0.0450  126.058   0.4960            5  "
      ]
     },
     "execution_count": 16,
     "metadata": {},
     "output_type": "execute_result"
    }
   ],
   "source": [
    "#converting ms to s\n",
    "data[\"duration_ms\"]=data[\"duration_ms\"]/1000\n",
    "data.head()\n"
   ]
  },
  {
   "cell_type": "code",
   "execution_count": 17,
   "id": "92a2794c",
   "metadata": {
    "execution": {
     "iopub.execute_input": "2023-05-05T07:55:18.840793Z",
     "iopub.status.busy": "2023-05-05T07:55:18.839849Z",
     "iopub.status.idle": "2023-05-05T07:55:19.909143Z",
     "shell.execute_reply": "2023-05-05T07:55:19.907949Z"
    },
    "id": "xtY3-DwTEDCr",
    "outputId": "4e41c5e5-12d5-4a24-c94d-f250fc1866ae",
    "papermill": {
     "duration": 1.096458,
     "end_time": "2023-05-05T07:55:19.911579",
     "exception": false,
     "start_time": "2023-05-05T07:55:18.815121",
     "status": "completed"
    },
    "tags": []
   },
   "outputs": [
    {
     "data": {
      "text/plain": [
       "<Axes: >"
      ]
     },
     "execution_count": 17,
     "metadata": {},
     "output_type": "execute_result"
    },
    {
     "data": {
      "image/png": "[encoded data removed]",
      "text/plain": [
       "<Figure size 3000x1000 with 1 Axes>"
      ]
     },
     "metadata": {},
     "output_type": "display_data"
    }
   ],
   "source": [
    "plt.rcParams['figure.figsize'] = 30, 10\n",
    "data.select_dtypes(include=np.number).boxplot()\n"
   ]
  },
  {
   "cell_type": "markdown",
   "id": "a38c46ba",
   "metadata": {
    "papermill": {
     "duration": 0.022274,
     "end_time": "2023-05-05T07:55:19.956189",
     "exception": false,
     "start_time": "2023-05-05T07:55:19.933915",
     "status": "completed"
    },
    "tags": []
   },
   "source": [
    "# Data cleaning"
   ]
  },
  {
   "cell_type": "markdown",
   "id": "c40e1110",
   "metadata": {
    "id": "cecd3fed",
    "papermill": {
     "duration": 0.022733,
     "end_time": "2023-05-05T07:55:20.001011",
     "exception": false,
     "start_time": "2023-05-05T07:55:19.978278",
     "status": "completed"
    },
    "tags": []
   },
   "source": [
    "### Let's see if our data has missing values"
   ]
  },
  {
   "cell_type": "code",
   "execution_count": 18,
   "id": "e15ea0bd",
   "metadata": {
    "execution": {
     "iopub.execute_input": "2023-05-05T07:55:20.047677Z",
     "iopub.status.busy": "2023-05-05T07:55:20.047248Z",
     "iopub.status.idle": "2023-05-05T07:55:20.097999Z",
     "shell.execute_reply": "2023-05-05T07:55:20.096656Z"
    },
    "id": "a14a27d8",
    "outputId": "8c408dcd-1656-457d-fe85-f3242b43c4a8",
    "papermill": {
     "duration": 0.077115,
     "end_time": "2023-05-05T07:55:20.100535",
     "exception": false,
     "start_time": "2023-05-05T07:55:20.023420",
     "status": "completed"
    },
    "tags": []
   },
   "outputs": [
    {
     "data": {
      "text/plain": [
       "instance_id         False\n",
       "artist_name         False\n",
       "track_name          False\n",
       "popularity          False\n",
       "acousticness        False\n",
       "danceability        False\n",
       "duration_ms         False\n",
       "energy              False\n",
       "instrumentalness    False\n",
       "liveness            False\n",
       "loudness            False\n",
       "speechiness         False\n",
       "tempo               False\n",
       "valence             False\n",
       "music_genre         False\n",
       "dtype: bool"
      ]
     },
     "execution_count": 18,
     "metadata": {},
     "output_type": "execute_result"
    }
   ],
   "source": [
    "data.isnull().any()"
   ]
  },
  {
   "cell_type": "code",
   "execution_count": 19,
   "id": "ad85b945",
   "metadata": {
    "execution": {
     "iopub.execute_input": "2023-05-05T07:55:20.147635Z",
     "iopub.status.busy": "2023-05-05T07:55:20.146789Z",
     "iopub.status.idle": "2023-05-05T07:55:20.198505Z",
     "shell.execute_reply": "2023-05-05T07:55:20.197368Z"
    },
    "id": "bee9b063",
    "outputId": "e195a7c9-b041-4ae7-8f93-f5c0e63df37e",
    "papermill": {
     "duration": 0.078649,
     "end_time": "2023-05-05T07:55:20.200892",
     "exception": false,
     "start_time": "2023-05-05T07:55:20.122243",
     "status": "completed"
    },
    "tags": []
   },
   "outputs": [
    {
     "data": {
      "text/plain": [
       "instance_id         0\n",
       "artist_name         0\n",
       "track_name          0\n",
       "popularity          0\n",
       "acousticness        0\n",
       "danceability        0\n",
       "duration_ms         0\n",
       "energy              0\n",
       "instrumentalness    0\n",
       "liveness            0\n",
       "loudness            0\n",
       "speechiness         0\n",
       "tempo               0\n",
       "valence             0\n",
       "music_genre         0\n",
       "dtype: int64"
      ]
     },
     "execution_count": 19,
     "metadata": {},
     "output_type": "execute_result"
    }
   ],
   "source": [
    "# Number or data that null ??\n",
    "data.isnull().sum()"
   ]
  },
  {
   "cell_type": "code",
   "execution_count": 20,
   "id": "5502236c",
   "metadata": {
    "execution": {
     "iopub.execute_input": "2023-05-05T07:55:20.351495Z",
     "iopub.status.busy": "2023-05-05T07:55:20.351065Z",
     "iopub.status.idle": "2023-05-05T07:55:20.400131Z",
     "shell.execute_reply": "2023-05-05T07:55:20.398728Z"
    },
    "id": "28858a13",
    "outputId": "b89a70d9-528f-4954-a7cf-9f2d33adbfaf",
    "papermill": {
     "duration": 0.075385,
     "end_time": "2023-05-05T07:55:20.402950",
     "exception": false,
     "start_time": "2023-05-05T07:55:20.327565",
     "status": "completed"
    },
    "scrolled": true,
    "tags": []
   },
   "outputs": [
    {
     "name": "stdout",
     "output_type": "stream",
     "text": [
      "Series([], dtype: float64)\n"
     ]
    }
   ],
   "source": [
    "dataset_null=(data.isna().sum()/len(data))*100.0\n",
    "dataset_null_ratio=dataset_null.drop(dataset_null[dataset_null==0].index).sort_values(ascending=False)\n",
    "print(dataset_null_ratio)"
   ]
  },
  {
   "cell_type": "code",
   "execution_count": 21,
   "id": "6a70dadf",
   "metadata": {},
   "outputs": [],
   "source": [
    "X = data.drop(['music_genre'], axis=1)\n",
    "y =  data['music_genre']\n"
   ]
  },
  {
   "cell_type": "code",
   "execution_count": 22,
   "id": "f1ecf5c4",
   "metadata": {},
   "outputs": [],
   "source": [
    "X['acousticness_energy'] = X['acousticness'] * X['energy']"
   ]
  },
  {
   "cell_type": "code",
   "execution_count": 23,
   "id": "8a64342d",
   "metadata": {},
   "outputs": [],
   "source": [
    "from sklearn.preprocessing import TargetEncoder\n",
    "\n",
    "artist_encoder = TargetEncoder(smooth='auto', shuffle=True, random_state=42)\n",
    "\n",
    "encoded_artist_train_X = artist_encoder.fit_transform(X[['artist_name']], y)\n"
   ]
  },
  {
   "cell_type": "code",
   "execution_count": 24,
   "id": "c0e6ac9a",
   "metadata": {},
   "outputs": [],
   "source": [
    "from sklearn.preprocessing import MinMaxScaler\n",
    "\n",
    "scaler = MinMaxScaler()\n",
    "\n",
    "X.drop(columns = ['artist_name','track_name'], axis=1, inplace=True)\n",
    "\n",
    "scaled_train_X = scaler.fit_transform(X)\n"
   ]
  },
  {
   "cell_type": "code",
   "execution_count": 25,
   "id": "2aa6a800",
   "metadata": {},
   "outputs": [],
   "source": [
    "X_train = np.column_stack((scaled_train_X, encoded_artist_train_X))"
   ]
  },
  {
   "cell_type": "markdown",
   "id": "7efafcb3",
   "metadata": {
    "id": "Jgfuytd-ffFH",
    "papermill": {
     "duration": 0.024375,
     "end_time": "2023-05-05T07:56:11.130377",
     "exception": false,
     "start_time": "2023-05-05T07:56:11.106002",
     "status": "completed"
    },
    "tags": []
   },
   "source": [
    "# Model building"
   ]
  },
  {
   "cell_type": "code",
   "execution_count": 28,
   "id": "fb8bc0a2",
   "metadata": {},
   "outputs": [
    {
     "name": "stderr",
     "output_type": "stream",
     "text": [
      "WARNING:root:Failure to load the inference.so custom c++ tensorflow ops. This error is likely caused the version of TensorFlow and TensorFlow Decision Forests are not compatible. Full error:c:\\Users\\zfeng\\Documents\\Interships Projects\\.venv\\lib\\site-packages\\tensorflow_decision_forests\\tensorflow\\ops\\inference\\inference.so not found\n"
     ]
    },
    {
     "ename": "NotFoundError",
     "evalue": "c:\\Users\\zfeng\\Documents\\Interships Projects\\.venv\\lib\\site-packages\\tensorflow_decision_forests\\tensorflow\\ops\\inference\\inference.so not found",
     "output_type": "error",
     "traceback": [
      "\u001b[1;31m---------------------------------------------------------------------------\u001b[0m",
      "\u001b[1;31mNotFoundError\u001b[0m                             Traceback (most recent call last)",
      "Cell \u001b[1;32mIn[28], line 2\u001b[0m\n\u001b[0;32m      1\u001b[0m \u001b[38;5;28;01mimport\u001b[39;00m \u001b[38;5;21;01mtensorflow\u001b[39;00m \u001b[38;5;28;01mas\u001b[39;00m \u001b[38;5;21;01mtf\u001b[39;00m\n\u001b[1;32m----> 2\u001b[0m \u001b[38;5;28;01mimport\u001b[39;00m \u001b[38;5;21;01mtensorflow_decision_forests\u001b[39;00m \u001b[38;5;28;01mas\u001b[39;00m \u001b[38;5;21;01mtfdf\u001b[39;00m\n\u001b[0;32m      4\u001b[0m \u001b[38;5;28mprint\u001b[39m(\u001b[38;5;124mf\u001b[39m\u001b[38;5;124m\"\u001b[39m\u001b[38;5;124mFound TF-DF \u001b[39m\u001b[38;5;132;01m{\u001b[39;00mtfdf\u001b[38;5;241m.\u001b[39m__version__\u001b[38;5;132;01m}\u001b[39;00m\u001b[38;5;124m\"\u001b[39m)\n",
      "File \u001b[1;32mc:\\Users\\zfeng\\Documents\\Interships Projects\\.venv\\lib\\site-packages\\tensorflow_decision_forests\\__init__.py:64\u001b[0m\n\u001b[0;32m     60\u001b[0m \u001b[38;5;28;01mfrom\u001b[39;00m \u001b[38;5;21;01mtensorflow_decision_forests\u001b[39;00m\u001b[38;5;21;01m.\u001b[39;00m\u001b[38;5;21;01mtensorflow\u001b[39;00m \u001b[38;5;28;01mimport\u001b[39;00m check_version\n\u001b[0;32m     62\u001b[0m check_version\u001b[38;5;241m.\u001b[39mcheck_version(__version__, compatible_tf_versions)\n\u001b[1;32m---> 64\u001b[0m \u001b[38;5;28;01mfrom\u001b[39;00m \u001b[38;5;21;01mtensorflow_decision_forests\u001b[39;00m \u001b[38;5;28;01mimport\u001b[39;00m keras\n\u001b[0;32m     65\u001b[0m \u001b[38;5;28;01mfrom\u001b[39;00m \u001b[38;5;21;01mtensorflow_decision_forests\u001b[39;00m\u001b[38;5;21;01m.\u001b[39;00m\u001b[38;5;21;01mcomponent\u001b[39;00m \u001b[38;5;28;01mimport\u001b[39;00m py_tree\n\u001b[0;32m     66\u001b[0m \u001b[38;5;28;01mfrom\u001b[39;00m \u001b[38;5;21;01mtensorflow_decision_forests\u001b[39;00m\u001b[38;5;21;01m.\u001b[39;00m\u001b[38;5;21;01mcomponent\u001b[39;00m\u001b[38;5;21;01m.\u001b[39;00m\u001b[38;5;21;01mbuilder\u001b[39;00m \u001b[38;5;28;01mimport\u001b[39;00m builder\n",
      "File \u001b[1;32mc:\\Users\\zfeng\\Documents\\Interships Projects\\.venv\\lib\\site-packages\\tensorflow_decision_forests\\keras\\__init__.py:53\u001b[0m\n\u001b[0;32m     15\u001b[0m \u001b[38;5;124;03m\"\"\"Decision Forest in a Keras Model.\u001b[39;00m\n\u001b[0;32m     16\u001b[0m \n\u001b[0;32m     17\u001b[0m \u001b[38;5;124;03mUsage example:\u001b[39;00m\n\u001b[1;32m   (...)\u001b[0m\n\u001b[0;32m     48\u001b[0m \u001b[38;5;124;03m```\u001b[39;00m\n\u001b[0;32m     49\u001b[0m \u001b[38;5;124;03m\"\"\"\u001b[39;00m\n\u001b[0;32m     51\u001b[0m \u001b[38;5;28;01mfrom\u001b[39;00m \u001b[38;5;21;01mtyping\u001b[39;00m \u001b[38;5;28;01mimport\u001b[39;00m Callable, List\n\u001b[1;32m---> 53\u001b[0m \u001b[38;5;28;01mfrom\u001b[39;00m \u001b[38;5;21;01mtensorflow_decision_forests\u001b[39;00m\u001b[38;5;21;01m.\u001b[39;00m\u001b[38;5;21;01mkeras\u001b[39;00m \u001b[38;5;28;01mimport\u001b[39;00m core\n\u001b[0;32m     54\u001b[0m \u001b[38;5;28;01mfrom\u001b[39;00m \u001b[38;5;21;01mtensorflow_decision_forests\u001b[39;00m\u001b[38;5;21;01m.\u001b[39;00m\u001b[38;5;21;01mkeras\u001b[39;00m \u001b[38;5;28;01mimport\u001b[39;00m wrappers\n\u001b[0;32m     56\u001b[0m \u001b[38;5;66;03m# Utility classes\u001b[39;00m\n",
      "File \u001b[1;32mc:\\Users\\zfeng\\Documents\\Interships Projects\\.venv\\lib\\site-packages\\tensorflow_decision_forests\\keras\\core.py:62\u001b[0m\n\u001b[0;32m     60\u001b[0m \u001b[38;5;28;01mfrom\u001b[39;00m \u001b[38;5;21;01mtensorflow_decision_forests\u001b[39;00m\u001b[38;5;21;01m.\u001b[39;00m\u001b[38;5;21;01mcomponent\u001b[39;00m\u001b[38;5;21;01m.\u001b[39;00m\u001b[38;5;21;01minspector\u001b[39;00m \u001b[38;5;28;01mimport\u001b[39;00m inspector \u001b[38;5;28;01mas\u001b[39;00m inspector_lib\n\u001b[0;32m     61\u001b[0m \u001b[38;5;28;01mfrom\u001b[39;00m \u001b[38;5;21;01mtensorflow_decision_forests\u001b[39;00m\u001b[38;5;21;01m.\u001b[39;00m\u001b[38;5;21;01mcomponent\u001b[39;00m\u001b[38;5;21;01m.\u001b[39;00m\u001b[38;5;21;01mtuner\u001b[39;00m \u001b[38;5;28;01mimport\u001b[39;00m tuner \u001b[38;5;28;01mas\u001b[39;00m tuner_lib\n\u001b[1;32m---> 62\u001b[0m \u001b[38;5;28;01mfrom\u001b[39;00m \u001b[38;5;21;01mtensorflow_decision_forests\u001b[39;00m\u001b[38;5;21;01m.\u001b[39;00m\u001b[38;5;21;01mkeras\u001b[39;00m \u001b[38;5;28;01mimport\u001b[39;00m core_inference\n\u001b[0;32m     63\u001b[0m \u001b[38;5;28;01mfrom\u001b[39;00m \u001b[38;5;21;01mtensorflow_decision_forests\u001b[39;00m\u001b[38;5;21;01m.\u001b[39;00m\u001b[38;5;21;01mtensorflow\u001b[39;00m \u001b[38;5;28;01mimport\u001b[39;00m cc_logging\n\u001b[0;32m     64\u001b[0m \u001b[38;5;28;01mfrom\u001b[39;00m \u001b[38;5;21;01mtensorflow_decision_forests\u001b[39;00m\u001b[38;5;21;01m.\u001b[39;00m\u001b[38;5;21;01mtensorflow\u001b[39;00m \u001b[38;5;28;01mimport\u001b[39;00m core \u001b[38;5;28;01mas\u001b[39;00m tf_core\n",
      "File \u001b[1;32mc:\\Users\\zfeng\\Documents\\Interships Projects\\.venv\\lib\\site-packages\\tensorflow_decision_forests\\keras\\core_inference.py:36\u001b[0m\n\u001b[0;32m     34\u001b[0m \u001b[38;5;28;01mfrom\u001b[39;00m \u001b[38;5;21;01mtensorflow_decision_forests\u001b[39;00m\u001b[38;5;21;01m.\u001b[39;00m\u001b[38;5;21;01mtensorflow\u001b[39;00m \u001b[38;5;28;01mimport\u001b[39;00m core_inference \u001b[38;5;28;01mas\u001b[39;00m tf_core\n\u001b[0;32m     35\u001b[0m \u001b[38;5;28;01mfrom\u001b[39;00m \u001b[38;5;21;01mtensorflow_decision_forests\u001b[39;00m\u001b[38;5;21;01m.\u001b[39;00m\u001b[38;5;21;01mtensorflow\u001b[39;00m \u001b[38;5;28;01mimport\u001b[39;00m tf_logging\n\u001b[1;32m---> 36\u001b[0m \u001b[38;5;28;01mfrom\u001b[39;00m \u001b[38;5;21;01mtensorflow_decision_forests\u001b[39;00m\u001b[38;5;21;01m.\u001b[39;00m\u001b[38;5;21;01mtensorflow\u001b[39;00m\u001b[38;5;21;01m.\u001b[39;00m\u001b[38;5;21;01mops\u001b[39;00m\u001b[38;5;21;01m.\u001b[39;00m\u001b[38;5;21;01minference\u001b[39;00m \u001b[38;5;28;01mimport\u001b[39;00m api \u001b[38;5;28;01mas\u001b[39;00m tf_op\n\u001b[0;32m     37\u001b[0m \u001b[38;5;28;01mfrom\u001b[39;00m \u001b[38;5;21;01myggdrasil_decision_forests\u001b[39;00m\u001b[38;5;21;01m.\u001b[39;00m\u001b[38;5;21;01mlearner\u001b[39;00m \u001b[38;5;28;01mimport\u001b[39;00m abstract_learner_pb2\n\u001b[0;32m     38\u001b[0m \u001b[38;5;28;01mfrom\u001b[39;00m \u001b[38;5;21;01myggdrasil_decision_forests\u001b[39;00m\u001b[38;5;21;01m.\u001b[39;00m\u001b[38;5;21;01mlearner\u001b[39;00m\u001b[38;5;21;01m.\u001b[39;00m\u001b[38;5;21;01mmultitasker\u001b[39;00m \u001b[38;5;28;01mimport\u001b[39;00m multitasker_pb2\n",
      "File \u001b[1;32mc:\\Users\\zfeng\\Documents\\Interships Projects\\.venv\\lib\\site-packages\\tensorflow_decision_forests\\tensorflow\\ops\\inference\\api.py:179\u001b[0m\n\u001b[0;32m    177\u001b[0m \u001b[38;5;28;01mfrom\u001b[39;00m \u001b[38;5;21;01mtensorflow_decision_forests\u001b[39;00m\u001b[38;5;21;01m.\u001b[39;00m\u001b[38;5;21;01mcomponent\u001b[39;00m\u001b[38;5;21;01m.\u001b[39;00m\u001b[38;5;21;01minspector\u001b[39;00m \u001b[38;5;28;01mimport\u001b[39;00m inspector \u001b[38;5;28;01mas\u001b[39;00m inspector_lib\n\u001b[0;32m    178\u001b[0m \u001b[38;5;28;01mfrom\u001b[39;00m \u001b[38;5;21;01mtensorflow_decision_forests\u001b[39;00m\u001b[38;5;21;01m.\u001b[39;00m\u001b[38;5;21;01mtensorflow\u001b[39;00m \u001b[38;5;28;01mimport\u001b[39;00m tf1_compatibility\n\u001b[1;32m--> 179\u001b[0m \u001b[38;5;28;01mfrom\u001b[39;00m \u001b[38;5;21;01mtensorflow_decision_forests\u001b[39;00m\u001b[38;5;21;01m.\u001b[39;00m\u001b[38;5;21;01mtensorflow\u001b[39;00m\u001b[38;5;21;01m.\u001b[39;00m\u001b[38;5;21;01mops\u001b[39;00m\u001b[38;5;21;01m.\u001b[39;00m\u001b[38;5;21;01minference\u001b[39;00m \u001b[38;5;28;01mimport\u001b[39;00m op\n\u001b[0;32m    180\u001b[0m \u001b[38;5;28;01mfrom\u001b[39;00m \u001b[38;5;21;01myggdrasil_decision_forests\u001b[39;00m\u001b[38;5;21;01m.\u001b[39;00m\u001b[38;5;21;01mdataset\u001b[39;00m \u001b[38;5;28;01mimport\u001b[39;00m data_spec_pb2\n\u001b[0;32m    181\u001b[0m \u001b[38;5;28;01mfrom\u001b[39;00m \u001b[38;5;21;01myggdrasil_decision_forests\u001b[39;00m\u001b[38;5;21;01m.\u001b[39;00m\u001b[38;5;21;01mmodel\u001b[39;00m \u001b[38;5;28;01mimport\u001b[39;00m abstract_model_pb2\n",
      "File \u001b[1;32mc:\\Users\\zfeng\\Documents\\Interships Projects\\.venv\\lib\\site-packages\\tensorflow_decision_forests\\tensorflow\\ops\\inference\\op.py:15\u001b[0m\n\u001b[0;32m      1\u001b[0m \u001b[38;5;66;03m# Copyright 2021 Google LLC.\u001b[39;00m\n\u001b[0;32m      2\u001b[0m \u001b[38;5;66;03m#\u001b[39;00m\n\u001b[0;32m      3\u001b[0m \u001b[38;5;66;03m# Licensed under the Apache License, Version 2.0 (the \"License\");\u001b[39;00m\n\u001b[1;32m   (...)\u001b[0m\n\u001b[0;32m     12\u001b[0m \u001b[38;5;66;03m# See the License for the specific language governing permissions and\u001b[39;00m\n\u001b[0;32m     13\u001b[0m \u001b[38;5;66;03m# limitations under the License.\u001b[39;00m\n\u001b[1;32m---> 15\u001b[0m \u001b[38;5;28;01mfrom\u001b[39;00m \u001b[38;5;21;01mtensorflow_decision_forests\u001b[39;00m\u001b[38;5;21;01m.\u001b[39;00m\u001b[38;5;21;01mtensorflow\u001b[39;00m\u001b[38;5;21;01m.\u001b[39;00m\u001b[38;5;21;01mops\u001b[39;00m\u001b[38;5;21;01m.\u001b[39;00m\u001b[38;5;21;01minference\u001b[39;00m\u001b[38;5;21;01m.\u001b[39;00m\u001b[38;5;21;01mop_dynamic\u001b[39;00m \u001b[38;5;28;01mimport\u001b[39;00m \u001b[38;5;241m*\u001b[39m\n",
      "File \u001b[1;32mc:\\Users\\zfeng\\Documents\\Interships Projects\\.venv\\lib\\site-packages\\tensorflow_decision_forests\\tensorflow\\ops\\inference\\op_dynamic.py:24\u001b[0m\n\u001b[0;32m     22\u001b[0m \u001b[38;5;28;01mexcept\u001b[39;00m \u001b[38;5;167;01mException\u001b[39;00m \u001b[38;5;28;01mas\u001b[39;00m e:\n\u001b[0;32m     23\u001b[0m   check_version\u001b[38;5;241m.\u001b[39minfo_fail_to_load_custom_op(e, \u001b[38;5;124m\"\u001b[39m\u001b[38;5;124minference.so\u001b[39m\u001b[38;5;124m\"\u001b[39m)\n\u001b[1;32m---> 24\u001b[0m   \u001b[38;5;28;01mraise\u001b[39;00m e\n\u001b[0;32m     26\u001b[0m \u001b[38;5;66;03m# Importing all the symbols.\u001b[39;00m\n\u001b[0;32m     27\u001b[0m module \u001b[38;5;241m=\u001b[39m sys\u001b[38;5;241m.\u001b[39mmodules[\u001b[38;5;18m__name__\u001b[39m]\n",
      "File \u001b[1;32mc:\\Users\\zfeng\\Documents\\Interships Projects\\.venv\\lib\\site-packages\\tensorflow_decision_forests\\tensorflow\\ops\\inference\\op_dynamic.py:21\u001b[0m\n\u001b[0;32m     18\u001b[0m \u001b[38;5;28;01mimport\u001b[39;00m \u001b[38;5;21;01msys\u001b[39;00m\n\u001b[0;32m     20\u001b[0m \u001b[38;5;28;01mtry\u001b[39;00m:\n\u001b[1;32m---> 21\u001b[0m   ops \u001b[38;5;241m=\u001b[39m \u001b[43mtf\u001b[49m\u001b[38;5;241;43m.\u001b[39;49m\u001b[43mload_op_library\u001b[49m\u001b[43m(\u001b[49m\u001b[43mresource_loader\u001b[49m\u001b[38;5;241;43m.\u001b[39;49m\u001b[43mget_path_to_datafile\u001b[49m\u001b[43m(\u001b[49m\u001b[38;5;124;43m\"\u001b[39;49m\u001b[38;5;124;43minference.so\u001b[39;49m\u001b[38;5;124;43m\"\u001b[39;49m\u001b[43m)\u001b[49m\u001b[43m)\u001b[49m\n\u001b[0;32m     22\u001b[0m \u001b[38;5;28;01mexcept\u001b[39;00m \u001b[38;5;167;01mException\u001b[39;00m \u001b[38;5;28;01mas\u001b[39;00m e:\n\u001b[0;32m     23\u001b[0m   check_version\u001b[38;5;241m.\u001b[39minfo_fail_to_load_custom_op(e, \u001b[38;5;124m\"\u001b[39m\u001b[38;5;124minference.so\u001b[39m\u001b[38;5;124m\"\u001b[39m)\n",
      "File \u001b[1;32mc:\\Users\\zfeng\\Documents\\Interships Projects\\.venv\\lib\\site-packages\\tensorflow\\python\\framework\\load_library.py:54\u001b[0m, in \u001b[0;36mload_op_library\u001b[1;34m(library_filename)\u001b[0m\n\u001b[0;32m     31\u001b[0m \u001b[38;5;129m@tf_export\u001b[39m(\u001b[38;5;124m'\u001b[39m\u001b[38;5;124mload_op_library\u001b[39m\u001b[38;5;124m'\u001b[39m)\n\u001b[0;32m     32\u001b[0m \u001b[38;5;28;01mdef\u001b[39;00m \u001b[38;5;21mload_op_library\u001b[39m(library_filename):\n\u001b[0;32m     33\u001b[0m \u001b[38;5;250m  \u001b[39m\u001b[38;5;124;03m\"\"\"Loads a TensorFlow plugin, containing custom ops and kernels.\u001b[39;00m\n\u001b[0;32m     34\u001b[0m \n\u001b[0;32m     35\u001b[0m \u001b[38;5;124;03m  Pass \"library_filename\" to a platform-specific mechanism for dynamically\u001b[39;00m\n\u001b[1;32m   (...)\u001b[0m\n\u001b[0;32m     52\u001b[0m \u001b[38;5;124;03m    RuntimeError: when unable to load the library or get the python wrappers.\u001b[39;00m\n\u001b[0;32m     53\u001b[0m \u001b[38;5;124;03m  \"\"\"\u001b[39;00m\n\u001b[1;32m---> 54\u001b[0m   lib_handle \u001b[38;5;241m=\u001b[39m \u001b[43mpy_tf\u001b[49m\u001b[38;5;241;43m.\u001b[39;49m\u001b[43mTF_LoadLibrary\u001b[49m\u001b[43m(\u001b[49m\u001b[43mlibrary_filename\u001b[49m\u001b[43m)\u001b[49m\n\u001b[0;32m     55\u001b[0m   \u001b[38;5;28;01mtry\u001b[39;00m:\n\u001b[0;32m     56\u001b[0m     wrappers \u001b[38;5;241m=\u001b[39m _pywrap_python_op_gen\u001b[38;5;241m.\u001b[39mGetPythonWrappers(\n\u001b[0;32m     57\u001b[0m         py_tf\u001b[38;5;241m.\u001b[39mTF_GetOpList(lib_handle))\n",
      "\u001b[1;31mNotFoundError\u001b[0m: c:\\Users\\zfeng\\Documents\\Interships Projects\\.venv\\lib\\site-packages\\tensorflow_decision_forests\\tensorflow\\ops\\inference\\inference.so not found"
     ]
    }
   ],
   "source": [
    "import tensorflow as tf\n",
    "import tensorflow_decision_forests as tfdf\n",
    "\n",
    "print(f\"Found TF-DF {tfdf.__version__}\")"
   ]
  },
  {
   "cell_type": "code",
   "execution_count": null,
   "id": "8ff0a4d4",
   "metadata": {},
   "outputs": [],
   "source": [
    "model = tfdf.keras.GradientBoostedTreesModel(\n",
    "    verbose=0, # Very few logs\n",
    "    features=[tfdf.keras.FeatureUsage(name=n) for n in X_train],\n",
    "    exclude_non_specified_features=True, # Only use the features in \"features\"\n",
    "    random_seed=1234,\n",
    ")\n",
    "model.fit(data)\n",
    "\n",
    "self_evaluation = model.make_inspector().evaluation()\n",
    "print(f\"Accuracy: {self_evaluation.accuracy} Loss:{self_evaluation.loss}\")"
   ]
  },
  {
   "cell_type": "code",
   "execution_count": null,
   "id": "37fc811e",
   "metadata": {},
   "outputs": [],
   "source": [
    "model = tfdf.keras.GradientBoostedTreesModel(\n",
    "    verbose=0, # Very few logs\n",
    "    features=[tfdf.keras.FeatureUsage(name=n) for n in X_train],\n",
    "    exclude_non_specified_features=True, # Only use the features in \"features\"\n",
    "    \n",
    "    #num_trees=2000,\n",
    "    \n",
    "    # Only for GBT.\n",
    "    # A bit slower, but great to understand the model.\n",
    "    # compute_permutation_variable_importance=True,\n",
    "    \n",
    "    # Change the default hyper-parameters\n",
    "    # hyperparameter_template=\"benchmark_rank1@v1\",\n",
    "    \n",
    "    #num_trees=1000,\n",
    "    #tuner=tuner\n",
    "    \n",
    "    min_examples=1,\n",
    "    categorical_algorithm=\"RANDOM\",\n",
    "    #max_depth=4,\n",
    "    shrinkage=0.05,\n",
    "    #num_candidate_attributes_ratio=0.2,\n",
    "    split_axis=\"SPARSE_OBLIQUE\",\n",
    "    sparse_oblique_normalization=\"MIN_MAX\",\n",
    "    sparse_oblique_num_projections_exponent=2.0,\n",
    "    num_trees=2000,\n",
    "    #validation_ratio=0.0,\n",
    "    random_seed=1234,\n",
    "    \n",
    ")\n",
    "model.fit(data)\n",
    "\n",
    "self_evaluation = model.make_inspector().evaluation()\n",
    "print(f\"Accuracy: {self_evaluation.accuracy} Loss:{self_evaluation.loss}\")"
   ]
  },
  {
   "cell_type": "markdown",
   "id": "acaf83be",
   "metadata": {
    "papermill": {
     "duration": 0.028117,
     "end_time": "2023-05-05T07:56:28.639205",
     "exception": false,
     "start_time": "2023-05-05T07:56:28.611088",
     "status": "completed"
    },
    "tags": []
   },
   "source": [
    "# Performance metrics"
   ]
  },
  {
   "cell_type": "code",
   "execution_count": null,
   "id": "1f5866e5",
   "metadata": {
    "execution": {
     "iopub.execute_input": "2023-05-05T07:56:29.594002Z",
     "iopub.status.busy": "2023-05-05T07:56:29.593611Z",
     "iopub.status.idle": "2023-05-05T07:56:29.639656Z",
     "shell.execute_reply": "2023-05-05T07:56:29.638346Z"
    },
    "papermill": {
     "duration": 0.076398,
     "end_time": "2023-05-05T07:56:29.642259",
     "exception": false,
     "start_time": "2023-05-05T07:56:29.565861",
     "status": "completed"
    },
    "tags": []
   },
   "outputs": [],
   "source": [
    "tuner = tfdf.tuner.RandomSearch(num_trials=1000)\n",
    "tuner.choice(\"min_examples\", [2, 5, 7, 10])\n",
    "tuner.choice(\"categorical_algorithm\", [\"CART\", \"RANDOM\"])\n",
    "\n",
    "local_search_space = tuner.choice(\"growing_strategy\", [\"LOCAL\"])\n",
    "local_search_space.choice(\"max_depth\", [3, 4, 5, 6, 8])\n",
    "\n",
    "global_search_space = tuner.choice(\"growing_strategy\", [\"BEST_FIRST_GLOBAL\"], merge=True)\n",
    "global_search_space.choice(\"max_num_nodes\", [16, 32, 64, 128, 256])\n",
    "\n",
    "#tuner.choice(\"use_hessian_gain\", [True, False])\n",
    "tuner.choice(\"shrinkage\", [0.02, 0.05, 0.10, 0.15])\n",
    "tuner.choice(\"num_candidate_attributes_ratio\", [0.2, 0.5, 0.9, 1.0])\n",
    "\n",
    "\n",
    "tuner.choice(\"split_axis\", [\"AXIS_ALIGNED\"])\n",
    "oblique_space = tuner.choice(\"split_axis\", [\"SPARSE_OBLIQUE\"], merge=True)\n",
    "oblique_space.choice(\"sparse_oblique_normalization\",\n",
    "                     [\"NONE\", \"STANDARD_DEVIATION\", \"MIN_MAX\"])\n",
    "oblique_space.choice(\"sparse_oblique_weights\", [\"BINARY\", \"CONTINUOUS\"])\n",
    "oblique_space.choice(\"sparse_oblique_num_projections_exponent\", [1.0, 1.5])\n",
    "\n",
    "# Tune the model. Notice the `tuner=tuner`.\n",
    "tuned_model = tfdf.keras.GradientBoostedTreesModel(tuner=tuner)\n",
    "tuned_model.fit(data, verbose=0)\n",
    "\n",
    "tuned_self_evaluation = tuned_model.make_inspector().evaluation()\n",
    "print(f\"Accuracy: {tuned_self_evaluation.accuracy} Loss:{tuned_self_evaluation.loss}\")"
   ]
  }
 ],
 "metadata": {
  "kernelspec": {
   "display_name": "Python 3",
   "language": "python",
   "name": "python3"
  },
  "language_info": {
   "codemirror_mode": {
    "name": "ipython",
    "version": 3
   },
   "file_extension": ".py",
   "mimetype": "text/x-python",
   "name": "python",
   "nbconvert_exporter": "python",
   "pygments_lexer": "ipython3",
   "version": "3.10.11"
  },
  "papermill": {
   "default_parameters": {},
   "duration": 93.545453,
   "end_time": "2023-05-05T07:56:31.343371",
   "environment_variables": {},
   "exception": null,
   "input_path": "__notebook__.ipynb",
   "output_path": "__notebook__.ipynb",
   "parameters": {},
   "start_time": "2023-05-05T07:54:57.797918",
   "version": "2.4.0"
  }
 },
 "nbformat": 4,
 "nbformat_minor": 5
}
